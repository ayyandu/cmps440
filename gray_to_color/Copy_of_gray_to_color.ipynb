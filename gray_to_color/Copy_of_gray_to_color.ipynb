{
  "nbformat": 4,
  "nbformat_minor": 0,
  "metadata": {
    "colab": {
      "provenance": []
    },
    "kernelspec": {
      "name": "python3",
      "display_name": "Python 3"
    },
    "language_info": {
      "name": "python"
    }
  },
  "cells": [
    {
      "cell_type": "code",
      "execution_count": null,
      "metadata": {
        "id": "WlMr1fVxbz7z"
      },
      "outputs": [],
      "source": [
        "# Clone the DeOldify repository\n",
        "!git clone https://github.com/jantic/DeOldify.git DeOldify\n",
        "\n",
        "# Change directory to DeOldify\n",
        "import os\n",
        "os.chdir('DeOldify')\n",
        "\n",
        "# Install the required dependencies\n",
        "!pip install -r requirements-colab.txt\n",
        "\n",
        "# Set up the DeOldify model\n",
        "from deoldify import device\n",
        "from deoldify.device_id import *\n",
        "import torch\n",
        "\n",
        "# choices: CPU, GPU0...GPU7\n",
        "#   CPU will be really slow\n",
        "#   If you have an Nvidia GPU, you should probably use GPU0\n",
        "#   You should definitely use GPU7 for high-res renders (>=1080p)\n",
        "torch_device = torch.device('cuda:0' if torch.cuda.is_available() else 'cpu')\n",
        "if torch_device.type == 'cuda':\n",
        "    print('Using CUDA')\n",
        "else:\n",
        "    print('Using CPU')\n"
      ]
    },
    {
      "cell_type": "code",
      "source": [
        "# Create the models directory\n",
        "!mkdir 'models'\n",
        "\n",
        "# Download the missing model files\n",
        "!wget https://data.deepai.org/deoldify/ColorizeArtistic_gen.pth -P 'models/'\n",
        "!wget https://data.deepai.org/deoldify/ColorizeArtistic_gen.pth -P 'models/'\n",
        "!wget https://data.deepai.org/deoldify/ColorizeArtistic_gen.pth -P 'models/'\n"
      ],
      "metadata": {
        "colab": {
          "base_uri": "https://localhost:8080/"
        },
        "id": "V0c4XdNIddj2",
        "outputId": "244554b7-ef61-410a-f82e-70234643441e"
      },
      "execution_count": null,
      "outputs": [
        {
          "output_type": "stream",
          "name": "stdout",
          "text": [
            "mkdir: cannot create directory ‘models’: File exists\n",
            "--2023-09-26 10:08:03--  https://data.deepai.org/deoldify/ColorizeArtistic_gen.pth\n",
            "Resolving data.deepai.org (data.deepai.org)... 185.59.220.198, 2400:52e0:1e00::1047:1\n",
            "Connecting to data.deepai.org (data.deepai.org)|185.59.220.198|:443... connected.\n",
            "HTTP request sent, awaiting response... 200 OK\n",
            "Length: 255144681 (243M) [application/octet-stream]\n",
            "Saving to: ‘models/ColorizeArtistic_gen.pth’\n",
            "\n",
            "ColorizeArtistic_ge 100%[===================>] 243.32M  5.05MB/s    in 50s     \n",
            "\n",
            "2023-09-26 10:08:53 (4.91 MB/s) - ‘models/ColorizeArtistic_gen.pth’ saved [255144681/255144681]\n",
            "\n",
            "--2023-09-26 10:08:53--  https://data.deepai.org/deoldify/ColorizeArtistic_gen.pth\n",
            "Resolving data.deepai.org (data.deepai.org)... 89.187.169.47, 2400:52e0:1e00::1077:1\n",
            "Connecting to data.deepai.org (data.deepai.org)|89.187.169.47|:443... connected.\n",
            "HTTP request sent, awaiting response... 200 OK\n",
            "Length: 255144681 (243M) [application/octet-stream]\n",
            "Saving to: ‘models/ColorizeArtistic_gen.pth.1’\n",
            "\n",
            "ColorizeArtistic_ge 100%[===================>] 243.32M  4.90MB/s    in 50s     \n",
            "\n",
            "2023-09-26 10:09:43 (4.86 MB/s) - ‘models/ColorizeArtistic_gen.pth.1’ saved [255144681/255144681]\n",
            "\n",
            "--2023-09-26 10:09:43--  https://data.deepai.org/deoldify/ColorizeArtistic_gen.pth\n",
            "Resolving data.deepai.org (data.deepai.org)... 138.199.37.225\n",
            "Connecting to data.deepai.org (data.deepai.org)|138.199.37.225|:443... connected.\n",
            "HTTP request sent, awaiting response... 200 OK\n",
            "Length: 255144681 (243M) [application/octet-stream]\n",
            "Saving to: ‘models/ColorizeArtistic_gen.pth.2’\n",
            "\n",
            "ColorizeArtistic_ge 100%[===================>] 243.32M  5.18MB/s    in 50s     \n",
            "\n",
            "2023-09-26 10:10:33 (4.87 MB/s) - ‘models/ColorizeArtistic_gen.pth.2’ saved [255144681/255144681]\n",
            "\n"
          ]
        }
      ]
    },
    {
      "cell_type": "code",
      "source": [
        "# Colorize the black and white image (replace 'your_bw_image.jpg' with your image file)\n",
        "from deoldify.visualize import *\n",
        "\n",
        "colorizer = get_image_colorizer(artistic=True)\n",
        "colorizer.plot_transformed_image('f1.jpeg', render_factor=10, display_render_factor=True, results_dir=Path('./result_images'))\n",
        "\n",
        "\n"
      ],
      "metadata": {
        "id": "SQAXGZzDcRp5"
      },
      "execution_count": null,
      "outputs": []
    }
  ]
}