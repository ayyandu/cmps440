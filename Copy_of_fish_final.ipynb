{
  "nbformat": 4,
  "nbformat_minor": 0,
  "metadata": {
    "colab": {
      "provenance": []
    },
    "kernelspec": {
      "name": "python3",
      "display_name": "Python 3"
    },
    "language_info": {
      "name": "python"
    }
  },
  "cells": [
    {
      "cell_type": "code",
      "execution_count": null,
      "metadata": {
        "colab": {
          "base_uri": "https://localhost:8080/"
        },
        "id": "8nMqQXVtElDc",
        "outputId": "6291df8f-32ee-4704-eba6-93c324c3a953"
      },
      "outputs": [
        {
          "output_type": "stream",
          "name": "stdout",
          "text": [
            "The length of the fish is 987.7371567773489 pixels.\n"
          ]
        }
      ],
      "source": [
        "import cv2\n",
        "import numpy as np\n",
        "\n",
        "def measure_fish_length(image_path):\n",
        "  \"\"\"Measures the length of a fish from a given fish image.\n",
        "\n",
        "  Args:\n",
        "    image_path: The path to the fish image.\n",
        "\n",
        "  Returns:\n",
        "    The length of the fish in pixels.\n",
        "  \"\"\"\n",
        "\n",
        "  # Read the image.\n",
        "  image = cv2.imread(image_path)\n",
        "\n",
        "  # Convert the image to grayscale.\n",
        "  gray = cv2.cvtColor(image, cv2.COLOR_BGR2GRAY)\n",
        "\n",
        "  # Blur the image to reduce noise.\n",
        "  blur = cv2.GaussianBlur(gray, (5, 5), 0)\n",
        "\n",
        "  # Canny edge detection.\n",
        "  edges = cv2.Canny(blur, 50, 150)\n",
        "\n",
        "  # Find the contours in the image.\n",
        "  contours = cv2.findContours(edges, cv2.RETR_EXTERNAL, cv2.CHAIN_APPROX_SIMPLE)[0]\n",
        "\n",
        "  # Find the longest contour.\n",
        "  longest_contour = max(contours, key=len)\n",
        "\n",
        "  # Calculate the length of the longest contour.\n",
        "  length = 0\n",
        "  for i in range(len(longest_contour) - 1):\n",
        "    length += np.linalg.norm(longest_contour[i] - longest_contour[i + 1])\n",
        "\n",
        "  return length\n",
        "\n",
        "# Example usage:\n",
        "\n",
        "image_path = 'goldfish.jpg'\n",
        "length = measure_fish_length(image_path)\n",
        "\n",
        "print('The length of the fish is {} pixels.'.format(length))\n"
      ]
    }
  ]
}